{
 "cells": [
  {
   "cell_type": "markdown",
   "metadata": {
    "id": "Gl0OH3XGTXe1"
   },
   "source": [
    "# HW5 Skeleton Code\n",
    "Please note that this skeleton code is provided to help you with homework.\n",
    "Full description of each question can be found on HW5.pdf, so please read instruction of each question carefully. There might be some questions that is not presented in this code."
   ]
  },
  {
   "cell_type": "code",
   "execution_count": 1,
   "metadata": {
    "id": "1QYqL7lvuvmK"
   },
   "outputs": [],
   "source": [
    "import os\n",
    "import numpy as np\n",
    "import pandas as pd\n",
    "from bs4 import BeautifulSoup\n",
    "import matplotlib.pyplot as plt"
   ]
  },
  {
   "cell_type": "markdown",
   "metadata": {
    "id": "awc_PHjUuvmR"
   },
   "source": [
    "## Q. Changing HTML Text to Plain Text\n",
    "\n",
    "The Python library <b>BeautifulSoup</b> is useful for dealing with html text. In order to use this library, you will need to install it first by running the following command:\n",
    " <b>conda install beautifulsoup4</b>\n",
    " in the terminal.\n",
    " <br> In the code, you can import it by running the following line:\n",
    "<br>\n",
    "  <b>from bs4 import BeautifulSoup </b>\n",
    "<br>"
   ]
  },
  {
   "cell_type": "code",
   "execution_count": 2,
   "metadata": {
    "id": "JaHFZFOuuvmU"
   },
   "outputs": [
    {
     "data": {
      "text/html": [
       "<div>\n",
       "<style scoped>\n",
       "    .dataframe tbody tr th:only-of-type {\n",
       "        vertical-align: middle;\n",
       "    }\n",
       "\n",
       "    .dataframe tbody tr th {\n",
       "        vertical-align: top;\n",
       "    }\n",
       "\n",
       "    .dataframe thead th {\n",
       "        text-align: right;\n",
       "    }\n",
       "</style>\n",
       "<table border=\"1\" class=\"dataframe\">\n",
       "  <thead>\n",
       "    <tr style=\"text-align: right;\">\n",
       "      <th></th>\n",
       "      <th>Id</th>\n",
       "      <th>Score</th>\n",
       "      <th>Body</th>\n",
       "      <th>Title</th>\n",
       "      <th>Tags</th>\n",
       "    </tr>\n",
       "  </thead>\n",
       "  <tbody>\n",
       "    <tr>\n",
       "      <th>0</th>\n",
       "      <td>500620</td>\n",
       "      <td>0</td>\n",
       "      <td>&lt;p&gt;I have the following head of data&lt;/p&gt;\\n&lt;pre...</td>\n",
       "      <td>Linear mixed effect model; degrees of freedom ...</td>\n",
       "      <td>&lt;r&gt;&lt;lme4-nlme&gt;</td>\n",
       "    </tr>\n",
       "    <tr>\n",
       "      <th>1</th>\n",
       "      <td>483677</td>\n",
       "      <td>0</td>\n",
       "      <td>&lt;p&gt;I want to predict a multivariate time serie...</td>\n",
       "      <td>Does LSTM without delayed inputs work as a dee...</td>\n",
       "      <td>&lt;machine-learning&gt;&lt;time-series&gt;&lt;neural-network...</td>\n",
       "    </tr>\n",
       "    <tr>\n",
       "      <th>2</th>\n",
       "      <td>464381</td>\n",
       "      <td>1</td>\n",
       "      <td>&lt;p&gt;Bolker (2015) talks of a research scenario ...</td>\n",
       "      <td>Mixed models: Why are deviations of each level...</td>\n",
       "      <td>&lt;mixed-model&gt;&lt;terminology&gt;</td>\n",
       "    </tr>\n",
       "    <tr>\n",
       "      <th>3</th>\n",
       "      <td>494560</td>\n",
       "      <td>0</td>\n",
       "      <td>&lt;p&gt;there is a reference to the &lt;span class=\"ma...</td>\n",
       "      <td>Understanding leverage and influence</td>\n",
       "      <td>&lt;machine-learning&gt;&lt;inference&gt;&lt;intuition&gt;&lt;lever...</td>\n",
       "    </tr>\n",
       "    <tr>\n",
       "      <th>4</th>\n",
       "      <td>466706</td>\n",
       "      <td>3</td>\n",
       "      <td>&lt;p&gt;We want to estimate &lt;span class=\"math-conta...</td>\n",
       "      <td>Goodness of Fit ot Least Squares with known me...</td>\n",
       "      <td>&lt;regression&gt;&lt;chi-squared-test&gt;&lt;least-squares&gt;&lt;...</td>\n",
       "    </tr>\n",
       "    <tr>\n",
       "      <th>...</th>\n",
       "      <td>...</td>\n",
       "      <td>...</td>\n",
       "      <td>...</td>\n",
       "      <td>...</td>\n",
       "      <td>...</td>\n",
       "    </tr>\n",
       "    <tr>\n",
       "      <th>19242</th>\n",
       "      <td>481093</td>\n",
       "      <td>0</td>\n",
       "      <td>&lt;p&gt;I'm composing a survey where I compare two ...</td>\n",
       "      <td>Compare two products directly or separately in...</td>\n",
       "      <td>&lt;hypothesis-testing&gt;&lt;t-test&gt;&lt;survey&gt;</td>\n",
       "    </tr>\n",
       "    <tr>\n",
       "      <th>19243</th>\n",
       "      <td>484636</td>\n",
       "      <td>1</td>\n",
       "      <td>&lt;p&gt;I'm not so much interested in implementatio...</td>\n",
       "      <td>How do the decision boundaries of logistic reg...</td>\n",
       "      <td>&lt;machine-learning&gt;&lt;logistic&gt;&lt;classification&gt;&lt;svm&gt;</td>\n",
       "    </tr>\n",
       "    <tr>\n",
       "      <th>19244</th>\n",
       "      <td>487976</td>\n",
       "      <td>2</td>\n",
       "      <td>&lt;p&gt;I was wondering from a technical perspectiv...</td>\n",
       "      <td>Offset vs weigths in GLM</td>\n",
       "      <td>&lt;generalized-linear-model&gt;&lt;weights&gt;&lt;offset&gt;</td>\n",
       "    </tr>\n",
       "    <tr>\n",
       "      <th>19245</th>\n",
       "      <td>483803</td>\n",
       "      <td>0</td>\n",
       "      <td>&lt;p&gt;In orden to avoid overfitting, how I can ch...</td>\n",
       "      <td>How to tune the number of epochs of a neural n...</td>\n",
       "      <td>&lt;neural-networks&gt;&lt;cross-validation&gt;</td>\n",
       "    </tr>\n",
       "    <tr>\n",
       "      <th>19246</th>\n",
       "      <td>488052</td>\n",
       "      <td>0</td>\n",
       "      <td>&lt;p&gt;I am planning a research project with hyper...</td>\n",
       "      <td>Deriving formulae from clinical research publi...</td>\n",
       "      <td>&lt;sample-size&gt;&lt;clinical-trials&gt;</td>\n",
       "    </tr>\n",
       "  </tbody>\n",
       "</table>\n",
       "<p>19247 rows × 5 columns</p>\n",
       "</div>"
      ],
      "text/plain": [
       "           Id  Score                                               Body  \\\n",
       "0      500620      0  <p>I have the following head of data</p>\\n<pre...   \n",
       "1      483677      0  <p>I want to predict a multivariate time serie...   \n",
       "2      464381      1  <p>Bolker (2015) talks of a research scenario ...   \n",
       "3      494560      0  <p>there is a reference to the <span class=\"ma...   \n",
       "4      466706      3  <p>We want to estimate <span class=\"math-conta...   \n",
       "...       ...    ...                                                ...   \n",
       "19242  481093      0  <p>I'm composing a survey where I compare two ...   \n",
       "19243  484636      1  <p>I'm not so much interested in implementatio...   \n",
       "19244  487976      2  <p>I was wondering from a technical perspectiv...   \n",
       "19245  483803      0  <p>In orden to avoid overfitting, how I can ch...   \n",
       "19246  488052      0  <p>I am planning a research project with hyper...   \n",
       "\n",
       "                                                   Title  \\\n",
       "0      Linear mixed effect model; degrees of freedom ...   \n",
       "1      Does LSTM without delayed inputs work as a dee...   \n",
       "2      Mixed models: Why are deviations of each level...   \n",
       "3                   Understanding leverage and influence   \n",
       "4      Goodness of Fit ot Least Squares with known me...   \n",
       "...                                                  ...   \n",
       "19242  Compare two products directly or separately in...   \n",
       "19243  How do the decision boundaries of logistic reg...   \n",
       "19244                           Offset vs weigths in GLM   \n",
       "19245  How to tune the number of epochs of a neural n...   \n",
       "19246  Deriving formulae from clinical research publi...   \n",
       "\n",
       "                                                    Tags  \n",
       "0                                         <r><lme4-nlme>  \n",
       "1      <machine-learning><time-series><neural-network...  \n",
       "2                             <mixed-model><terminology>  \n",
       "3      <machine-learning><inference><intuition><lever...  \n",
       "4      <regression><chi-squared-test><least-squares><...  \n",
       "...                                                  ...  \n",
       "19242               <hypothesis-testing><t-test><survey>  \n",
       "19243  <machine-learning><logistic><classification><svm>  \n",
       "19244        <generalized-linear-model><weights><offset>  \n",
       "19245                <neural-networks><cross-validation>  \n",
       "19246                     <sample-size><clinical-trials>  \n",
       "\n",
       "[19247 rows x 5 columns]"
      ]
     },
     "execution_count": 2,
     "metadata": {},
     "output_type": "execute_result"
    }
   ],
   "source": [
    "#Read our data file\n",
    "\n",
    "df_train = pd.read_csv(\"stack_stats_2023_train.csv\") \n",
    "df_test = pd.read_csv(\"stack_stats_2023_test.csv\") \n",
    "df_train"
   ]
  },
  {
   "cell_type": "code",
   "execution_count": 4,
   "metadata": {
    "id": "jzyC4JZpuvmW"
   },
   "outputs": [],
   "source": [
    "#Cleaning 'Body'\n",
    "#Change HTML Text to Plain text using get_text() function from BeautifulSoup\n",
    "#If you are not familiar with the apply method, please check discussion week 10 lecture and code.\n",
    "df_train['Body'] = df_train['Body'].apply(lambda x: BeautifulSoup(x, \"html.parser\").get_text()) #Todo\n",
    "#Manually cleaned up newline tag \\n and tab tag \\t.\n",
    "df_train['Body'] = df_train['Body'].apply(lambda x: x.replace(\"\\n\", \"\")) #Todo\n",
    "df_train['Body'] = df_train['Body'].apply(lambda x: x.replace(\"\\t\", \"\")) #Todo\n",
    "\n",
    "#Todo: Clean Tags, please feel free to add any lines below\n",
    "df_train['Tags'] = df_train['Tags'].apply(lambda x: x.replace(\">\", \" \")) #Todo\n",
    "df_train['Tags'] = df_train['Tags'].apply(lambda x: x.replace(\"<\", \" \")) #Todo\n",
    "\n",
    "\n",
    "#Todo: Repeat the same process for test dataset\n",
    "#Cleaning 'Body'\n",
    "#Change HTML Text to Plain text using get_text() function from BeautifulSoup\n",
    "#If you are not familiar with the apply method, please check discussion week 10 lecture and code.\n",
    "df_test['Body'] = df_test['Body'].apply(lambda x: BeautifulSoup(x, \"html.parser\").get_text()) #Todo\n",
    "#Manually cleaned up newline tag \\n and tab tag \\t.\n",
    "df_test['Body'] = df_test['Body'].apply(lambda x: x.replace(\"\\n\", \"\")) #Todo\n",
    "df_test['Body'] = df_test['Body'].apply(lambda x: x.replace(\"\\t\", \"\")) #Todo\n",
    "\n",
    "#Todo: Clean Tags, please feel free to add any lines below\n",
    "df_test['Tags'] = df_test['Tags'].apply(lambda x: x.replace(\">\", \" \")) #Todo\n",
    "df_test['Tags'] = df_test['Tags'].apply(lambda x: x.replace(\"<\", \" \")) #Todo"
   ]
  },
  {
   "cell_type": "markdown",
   "metadata": {
    "id": "mNS-3DkCuvmb"
   },
   "source": [
    "## Q. Basic Text Cleaning and Merging into a single Text data"
   ]
  },
  {
   "cell_type": "markdown",
   "metadata": {
    "id": "031sBi5Duvmc"
   },
   "source": [
    "### Change to Lower Case, Remove puncuation, digits,"
   ]
  },
  {
   "cell_type": "code",
   "execution_count": 5,
   "metadata": {
    "id": "t-YUYKlvuvmd"
   },
   "outputs": [],
   "source": [
    "#Change to Lowercase\n",
    "\n",
    "df_train[['Body','Title','Tags']] = df_train[['Body','Title','Tags']].applymap(lambda x: x.lower()) #Todo, do you see why we used applymap instead of apply in this case?\n",
    "df_test[['Body','Title','Tags']] = df_test[['Body','Title','Tags']].applymap(lambda x: x.lower()) #Todo"
   ]
  },
  {
   "cell_type": "code",
   "execution_count": 6,
   "metadata": {
    "id": "Bbcp_w_wuvme"
   },
   "outputs": [],
   "source": [
    "#Remove Punctations\n",
    "from string import punctuation\n",
    "\n",
    "#You can get this function from our discussion session code. However, we leave it as a blank for a practice.\n",
    "def remove_punctuation(document):\n",
    "    no_punct = \"\".join([c for c in document if c not in punctuation])#Todo\n",
    "    return no_punct\n",
    "\n",
    "df_train[['Body','Title','Tags']] = df_train[['Body','Title','Tags']].applymap(lambda x: remove_punctuation(x))#Todo\n",
    "df_test[['Body','Title','Tags']] = df_test[['Body','Title','Tags']].applymap(lambda x: remove_punctuation(x))#Todo"
   ]
  },
  {
   "cell_type": "code",
   "execution_count": 7,
   "metadata": {
    "id": "yNUiymSJuvmh"
   },
   "outputs": [],
   "source": [
    "#Remove Digits\n",
    "\n",
    "def remove_digit(document):\n",
    "\n",
    "    no_digit = \"\".join([c for c in document if not c.isdigit()])#Todo\n",
    "\n",
    "    return no_digit\n",
    "\n",
    "df_train[['Body','Title','Tags']] = df_train[['Body','Title','Tags']].applymap(lambda x: remove_digit(x))#Todo\n",
    "df_test[['Body','Title','Tags']] = df_train[['Body','Title','Tags']].applymap(lambda x: remove_digit(x))#Todo"
   ]
  },
  {
   "cell_type": "markdown",
   "metadata": {
    "id": "PAsCQQPQuvmi"
   },
   "source": [
    "### Tokenization and Remove Stopwords and do stemming"
   ]
  },
  {
   "cell_type": "code",
   "execution_count": 8,
   "metadata": {
    "colab": {
     "base_uri": "https://localhost:8080/"
    },
    "executionInfo": {
     "elapsed": 25821,
     "status": "ok",
     "timestamp": 1668123057199,
     "user": {
      "displayName": "Hyungki Im",
      "userId": "11059091126270115149"
     },
     "user_tz": 480
    },
    "id": "gOrVZxXQuvmj",
    "outputId": "07dd90e0-e5ca-4634-f43f-f379fe3a0787"
   },
   "outputs": [
    {
     "name": "stderr",
     "output_type": "stream",
     "text": [
      "[nltk_data] Downloading package punkt to /Users/noahsano/nltk_data...\n",
      "[nltk_data]   Package punkt is already up-to-date!\n"
     ]
    }
   ],
   "source": [
    "from nltk.tokenize import word_tokenize\n",
    "import nltk\n",
    "nltk.download('punkt')\n",
    "df_train[['Body','Title','Tags']] = df_train[['Body','Title','Tags']].applymap(lambda x: word_tokenize(x))#Todo\n",
    "df_test[['Body','Title','Tags']] = df_test[['Body','Title','Tags']].applymap(lambda x: word_tokenize(x))#Todo"
   ]
  },
  {
   "cell_type": "code",
   "execution_count": 9,
   "metadata": {
    "colab": {
     "base_uri": "https://localhost:8080/"
    },
    "executionInfo": {
     "elapsed": 2684,
     "status": "ok",
     "timestamp": 1668123197885,
     "user": {
      "displayName": "Hyungki Im",
      "userId": "11059091126270115149"
     },
     "user_tz": 480
    },
    "id": "82DJNdV1uvmj",
    "outputId": "8f8148ae-7551-43fc-d3d3-2bc8d8202d15"
   },
   "outputs": [
    {
     "name": "stderr",
     "output_type": "stream",
     "text": [
      "[nltk_data] Downloading package stopwords to\n",
      "[nltk_data]     /Users/noahsano/nltk_data...\n",
      "[nltk_data]   Package stopwords is already up-to-date!\n"
     ]
    }
   ],
   "source": [
    "#Remove Stopwords\n",
    "\n",
    "from nltk.corpus import stopwords\n",
    "nltk.download('stopwords')\n",
    "stop_words = set(stopwords.words('english'))\n",
    "\n",
    "def remove_stopwords(document):\n",
    "    \n",
    "    words = [word for word in document if not word in stop_words]\n",
    "\n",
    "    return words\n",
    "\n",
    "df_train[['Body','Title','Tags']] = df_train[['Body','Title','Tags']].applymap(lambda x: remove_stopwords(x))\n",
    "df_test[['Body','Title','Tags']] = df_test[['Body','Title','Tags']].applymap(lambda x: remove_stopwords(x))"
   ]
  },
  {
   "cell_type": "code",
   "execution_count": 10,
   "metadata": {
    "id": "54S-irnRuvmk"
   },
   "outputs": [],
   "source": [
    "#We use porter stemming\n",
    "\n",
    "from nltk.stem import PorterStemmer\n",
    "\n",
    "porter = PorterStemmer()\n",
    "\n",
    "def stemmer(document):\n",
    "\n",
    "    stemmed_document = [porter.stem(w) for w in document]#Todo\n",
    "\n",
    "    return stemmed_document\n",
    "\n",
    "df_train[['Body','Title','Tags']] = df_train[['Body','Title','Tags']].applymap(lambda x: stemmer(x))#Todo\n",
    "df_test[['Body','Title','Tags']] = df_test[['Body','Title','Tags']].applymap(lambda x: stemmer(x))#Todo\n"
   ]
  },
  {
   "cell_type": "markdown",
   "metadata": {
    "id": "P2sfBcaMLTok"
   },
   "source": [
    "## Let's Check our dataframe"
   ]
  },
  {
   "cell_type": "code",
   "execution_count": 11,
   "metadata": {
    "id": "r6V33S7pLS76"
   },
   "outputs": [
    {
     "data": {
      "text/html": [
       "<div>\n",
       "<style scoped>\n",
       "    .dataframe tbody tr th:only-of-type {\n",
       "        vertical-align: middle;\n",
       "    }\n",
       "\n",
       "    .dataframe tbody tr th {\n",
       "        vertical-align: top;\n",
       "    }\n",
       "\n",
       "    .dataframe thead th {\n",
       "        text-align: right;\n",
       "    }\n",
       "</style>\n",
       "<table border=\"1\" class=\"dataframe\">\n",
       "  <thead>\n",
       "    <tr style=\"text-align: right;\">\n",
       "      <th></th>\n",
       "      <th>Id</th>\n",
       "      <th>Score</th>\n",
       "      <th>Body</th>\n",
       "      <th>Title</th>\n",
       "      <th>Tags</th>\n",
       "    </tr>\n",
       "  </thead>\n",
       "  <tbody>\n",
       "    <tr>\n",
       "      <th>0</th>\n",
       "      <td>500620</td>\n",
       "      <td>0</td>\n",
       "      <td>[follow, head, data, p, p, id, type, host, ca,...</td>\n",
       "      <td>[linear, mix, effect, model, degre, freedom, p...</td>\n",
       "      <td>[r, lmenlm]</td>\n",
       "    </tr>\n",
       "    <tr>\n",
       "      <th>1</th>\n",
       "      <td>483677</td>\n",
       "      <td>0</td>\n",
       "      <td>[want, predict, multivari, time, seri, time, s...</td>\n",
       "      <td>[lstm, without, delay, input, work, deep, net]</td>\n",
       "      <td>[machinelearn, timeseri, neuralnetwork, lstm, ...</td>\n",
       "    </tr>\n",
       "    <tr>\n",
       "      <th>2</th>\n",
       "      <td>464381</td>\n",
       "      <td>1</td>\n",
       "      <td>[bolker, talk, research, scenario, site, group...</td>\n",
       "      <td>[mix, model, deviat, level, group, factor, val...</td>\n",
       "      <td>[mixedmodel, terminolog]</td>\n",
       "    </tr>\n",
       "    <tr>\n",
       "      <th>3</th>\n",
       "      <td>494560</td>\n",
       "      <td>0</td>\n",
       "      <td>[refer, ith, diagon, entri, h, hxxtxxt, defini...</td>\n",
       "      <td>[understand, leverag, influenc]</td>\n",
       "      <td>[machinelearn, infer, intuit, leverag]</td>\n",
       "    </tr>\n",
       "    <tr>\n",
       "      <th>4</th>\n",
       "      <td>466706</td>\n",
       "      <td>3</td>\n",
       "      <td>[want, estim, beta, fori, xbeta, epsilonwher, ...</td>\n",
       "      <td>[good, fit, ot, least, squar, known, measur, u...</td>\n",
       "      <td>[regress, chisquaredtest, leastsquar, goodness...</td>\n",
       "    </tr>\n",
       "  </tbody>\n",
       "</table>\n",
       "</div>"
      ],
      "text/plain": [
       "       Id  Score                                               Body  \\\n",
       "0  500620      0  [follow, head, data, p, p, id, type, host, ca,...   \n",
       "1  483677      0  [want, predict, multivari, time, seri, time, s...   \n",
       "2  464381      1  [bolker, talk, research, scenario, site, group...   \n",
       "3  494560      0  [refer, ith, diagon, entri, h, hxxtxxt, defini...   \n",
       "4  466706      3  [want, estim, beta, fori, xbeta, epsilonwher, ...   \n",
       "\n",
       "                                               Title  \\\n",
       "0  [linear, mix, effect, model, degre, freedom, p...   \n",
       "1     [lstm, without, delay, input, work, deep, net]   \n",
       "2  [mix, model, deviat, level, group, factor, val...   \n",
       "3                    [understand, leverag, influenc]   \n",
       "4  [good, fit, ot, least, squar, known, measur, u...   \n",
       "\n",
       "                                                Tags  \n",
       "0                                        [r, lmenlm]  \n",
       "1  [machinelearn, timeseri, neuralnetwork, lstm, ...  \n",
       "2                           [mixedmodel, terminolog]  \n",
       "3             [machinelearn, infer, intuit, leverag]  \n",
       "4  [regress, chisquaredtest, leastsquar, goodness...  "
      ]
     },
     "execution_count": 11,
     "metadata": {},
     "output_type": "execute_result"
    }
   ],
   "source": [
    "df_train.head(5)"
   ]
  },
  {
   "cell_type": "markdown",
   "metadata": {
    "id": "hFgV2VL0uvml"
   },
   "source": [
    "### Q. Treat Three text data independently and merge into one column"
   ]
  },
  {
   "cell_type": "code",
   "execution_count": 12,
   "metadata": {
    "id": "VCB-voc_uvmm"
   },
   "outputs": [],
   "source": [
    "#Treat Three types of data independently\n",
    "#let's define functions that will help this operation\n",
    "\n",
    "def add_body(document):\n",
    "\n",
    "    added_document = [w + \"_body\" for w in document] #Todo\n",
    "\n",
    "    return added_document\n",
    "\n",
    "def add_title(document):\n",
    "\n",
    "    added_document = [w + \"_title\" for w in document]#Todo\n",
    "\n",
    "    return added_document\n",
    "\n",
    "def add_tags(document):\n",
    "\n",
    "    added_document = [w + \"_tags\" for w in document]#Todo\n",
    "\n",
    "    return added_document"
   ]
  },
  {
   "cell_type": "code",
   "execution_count": 13,
   "metadata": {
    "id": "UWy0BGVHuvmm"
   },
   "outputs": [],
   "source": [
    "df_train['Body'] = df_train['Body'].apply(add_body)\n",
    "df_train['Title'] = df_train['Title'].apply(add_title)\n",
    "df_train['Tags'] = df_train['Tags'].apply(add_tags)\n",
    "\n",
    "df_test['Body'] = df_test['Body'].apply(add_body)\n",
    "df_test['Title'] = df_test['Title'].apply(add_title)\n",
    "df_test['Tags'] = df_test['Tags'].apply(add_tags)"
   ]
  },
  {
   "cell_type": "code",
   "execution_count": 14,
   "metadata": {
    "id": "kgcE1Vcnuvmn"
   },
   "outputs": [],
   "source": [
    "#Now we need to merge all those 3 columns into a single column. Implement this below.\n",
    "df_train['text'] = df_train['Body'] + df_train['Title'] + df_train['Tags']#Todo\n",
    "df_test['text'] = df_test['Body'] + df_train['Title'] + df_train['Tags']#Todo"
   ]
  },
  {
   "cell_type": "code",
   "execution_count": 15,
   "metadata": {},
   "outputs": [],
   "source": [
    "#Remove duplicate words in each category\n",
    "\n",
    "def dup_remove(document):\n",
    "    dup = []\n",
    "    [dup.append(w) for w in document if w not in dup]    \n",
    "    return dup\n",
    "\n",
    "df_train['text'] = df_train['text'].apply(lambda x: dup_remove(x))#Todo\n",
    "df_test['text'] = df_test['text'].apply(lambda x: dup_remove(x))#Todo"
   ]
  },
  {
   "cell_type": "markdown",
   "metadata": {
    "id": "Hq2PYhnmLhDi"
   },
   "source": [
    "## Let's check our DataFrame"
   ]
  },
  {
   "cell_type": "code",
   "execution_count": 16,
   "metadata": {
    "id": "rtYP_Lu3LjIb"
   },
   "outputs": [
    {
     "data": {
      "text/html": [
       "<div>\n",
       "<style scoped>\n",
       "    .dataframe tbody tr th:only-of-type {\n",
       "        vertical-align: middle;\n",
       "    }\n",
       "\n",
       "    .dataframe tbody tr th {\n",
       "        vertical-align: top;\n",
       "    }\n",
       "\n",
       "    .dataframe thead th {\n",
       "        text-align: right;\n",
       "    }\n",
       "</style>\n",
       "<table border=\"1\" class=\"dataframe\">\n",
       "  <thead>\n",
       "    <tr style=\"text-align: right;\">\n",
       "      <th></th>\n",
       "      <th>Id</th>\n",
       "      <th>Score</th>\n",
       "      <th>Body</th>\n",
       "      <th>Title</th>\n",
       "      <th>Tags</th>\n",
       "      <th>text</th>\n",
       "    </tr>\n",
       "  </thead>\n",
       "  <tbody>\n",
       "    <tr>\n",
       "      <th>0</th>\n",
       "      <td>500620</td>\n",
       "      <td>0</td>\n",
       "      <td>[follow_body, head_body, data_body, p_body, p_...</td>\n",
       "      <td>[linear_title, mix_title, effect_title, model_...</td>\n",
       "      <td>[r_tags, lmenlm_tags]</td>\n",
       "      <td>[follow_body, head_body, data_body, p_body, id...</td>\n",
       "    </tr>\n",
       "    <tr>\n",
       "      <th>1</th>\n",
       "      <td>483677</td>\n",
       "      <td>0</td>\n",
       "      <td>[want_body, predict_body, multivari_body, time...</td>\n",
       "      <td>[lstm_title, without_title, delay_title, input...</td>\n",
       "      <td>[machinelearn_tags, timeseri_tags, neuralnetwo...</td>\n",
       "      <td>[want_body, predict_body, multivari_body, time...</td>\n",
       "    </tr>\n",
       "    <tr>\n",
       "      <th>2</th>\n",
       "      <td>464381</td>\n",
       "      <td>1</td>\n",
       "      <td>[bolker_body, talk_body, research_body, scenar...</td>\n",
       "      <td>[mix_title, model_title, deviat_title, level_t...</td>\n",
       "      <td>[mixedmodel_tags, terminolog_tags]</td>\n",
       "      <td>[bolker_body, talk_body, research_body, scenar...</td>\n",
       "    </tr>\n",
       "    <tr>\n",
       "      <th>3</th>\n",
       "      <td>494560</td>\n",
       "      <td>0</td>\n",
       "      <td>[refer_body, ith_body, diagon_body, entri_body...</td>\n",
       "      <td>[understand_title, leverag_title, influenc_title]</td>\n",
       "      <td>[machinelearn_tags, infer_tags, intuit_tags, l...</td>\n",
       "      <td>[refer_body, ith_body, diagon_body, entri_body...</td>\n",
       "    </tr>\n",
       "    <tr>\n",
       "      <th>4</th>\n",
       "      <td>466706</td>\n",
       "      <td>3</td>\n",
       "      <td>[want_body, estim_body, beta_body, fori_body, ...</td>\n",
       "      <td>[good_title, fit_title, ot_title, least_title,...</td>\n",
       "      <td>[regress_tags, chisquaredtest_tags, leastsquar...</td>\n",
       "      <td>[want_body, estim_body, beta_body, fori_body, ...</td>\n",
       "    </tr>\n",
       "    <tr>\n",
       "      <th>...</th>\n",
       "      <td>...</td>\n",
       "      <td>...</td>\n",
       "      <td>...</td>\n",
       "      <td>...</td>\n",
       "      <td>...</td>\n",
       "      <td>...</td>\n",
       "    </tr>\n",
       "    <tr>\n",
       "      <th>19242</th>\n",
       "      <td>481093</td>\n",
       "      <td>0</td>\n",
       "      <td>[im_body, compos_body, survey_body, compar_bod...</td>\n",
       "      <td>[compar_title, two_title, product_title, direc...</td>\n",
       "      <td>[hypothesistest_tags, ttest_tags, survey_tags]</td>\n",
       "      <td>[im_body, compos_body, survey_body, compar_bod...</td>\n",
       "    </tr>\n",
       "    <tr>\n",
       "      <th>19243</th>\n",
       "      <td>484636</td>\n",
       "      <td>1</td>\n",
       "      <td>[im_body, much_body, interest_body, implement_...</td>\n",
       "      <td>[decis_title, boundari_title, logist_title, re...</td>\n",
       "      <td>[machinelearn_tags, logist_tags, classif_tags,...</td>\n",
       "      <td>[im_body, much_body, interest_body, implement_...</td>\n",
       "    </tr>\n",
       "    <tr>\n",
       "      <th>19244</th>\n",
       "      <td>487976</td>\n",
       "      <td>2</td>\n",
       "      <td>[wonder_body, technic_body, perspect_body, app...</td>\n",
       "      <td>[offset_title, vs_title, weigth_title, glm_title]</td>\n",
       "      <td>[generalizedlinearmodel_tags, weight_tags, off...</td>\n",
       "      <td>[wonder_body, technic_body, perspect_body, app...</td>\n",
       "    </tr>\n",
       "    <tr>\n",
       "      <th>19245</th>\n",
       "      <td>483803</td>\n",
       "      <td>0</td>\n",
       "      <td>[orden_body, avoid_body, overfit_body, choos_b...</td>\n",
       "      <td>[tune_title, number_title, epoch_title, neural...</td>\n",
       "      <td>[neuralnetwork_tags, crossvalid_tags]</td>\n",
       "      <td>[orden_body, avoid_body, overfit_body, choos_b...</td>\n",
       "    </tr>\n",
       "    <tr>\n",
       "      <th>19246</th>\n",
       "      <td>488052</td>\n",
       "      <td>0</td>\n",
       "      <td>[plan_body, research_body, project_body, hyper...</td>\n",
       "      <td>[deriv_title, formula_title, clinic_title, res...</td>\n",
       "      <td>[samples_tags, clinicaltri_tags]</td>\n",
       "      <td>[plan_body, research_body, project_body, hyper...</td>\n",
       "    </tr>\n",
       "  </tbody>\n",
       "</table>\n",
       "<p>19247 rows × 6 columns</p>\n",
       "</div>"
      ],
      "text/plain": [
       "           Id  Score                                               Body  \\\n",
       "0      500620      0  [follow_body, head_body, data_body, p_body, p_...   \n",
       "1      483677      0  [want_body, predict_body, multivari_body, time...   \n",
       "2      464381      1  [bolker_body, talk_body, research_body, scenar...   \n",
       "3      494560      0  [refer_body, ith_body, diagon_body, entri_body...   \n",
       "4      466706      3  [want_body, estim_body, beta_body, fori_body, ...   \n",
       "...       ...    ...                                                ...   \n",
       "19242  481093      0  [im_body, compos_body, survey_body, compar_bod...   \n",
       "19243  484636      1  [im_body, much_body, interest_body, implement_...   \n",
       "19244  487976      2  [wonder_body, technic_body, perspect_body, app...   \n",
       "19245  483803      0  [orden_body, avoid_body, overfit_body, choos_b...   \n",
       "19246  488052      0  [plan_body, research_body, project_body, hyper...   \n",
       "\n",
       "                                                   Title  \\\n",
       "0      [linear_title, mix_title, effect_title, model_...   \n",
       "1      [lstm_title, without_title, delay_title, input...   \n",
       "2      [mix_title, model_title, deviat_title, level_t...   \n",
       "3      [understand_title, leverag_title, influenc_title]   \n",
       "4      [good_title, fit_title, ot_title, least_title,...   \n",
       "...                                                  ...   \n",
       "19242  [compar_title, two_title, product_title, direc...   \n",
       "19243  [decis_title, boundari_title, logist_title, re...   \n",
       "19244  [offset_title, vs_title, weigth_title, glm_title]   \n",
       "19245  [tune_title, number_title, epoch_title, neural...   \n",
       "19246  [deriv_title, formula_title, clinic_title, res...   \n",
       "\n",
       "                                                    Tags  \\\n",
       "0                                  [r_tags, lmenlm_tags]   \n",
       "1      [machinelearn_tags, timeseri_tags, neuralnetwo...   \n",
       "2                     [mixedmodel_tags, terminolog_tags]   \n",
       "3      [machinelearn_tags, infer_tags, intuit_tags, l...   \n",
       "4      [regress_tags, chisquaredtest_tags, leastsquar...   \n",
       "...                                                  ...   \n",
       "19242     [hypothesistest_tags, ttest_tags, survey_tags]   \n",
       "19243  [machinelearn_tags, logist_tags, classif_tags,...   \n",
       "19244  [generalizedlinearmodel_tags, weight_tags, off...   \n",
       "19245              [neuralnetwork_tags, crossvalid_tags]   \n",
       "19246                   [samples_tags, clinicaltri_tags]   \n",
       "\n",
       "                                                    text  \n",
       "0      [follow_body, head_body, data_body, p_body, id...  \n",
       "1      [want_body, predict_body, multivari_body, time...  \n",
       "2      [bolker_body, talk_body, research_body, scenar...  \n",
       "3      [refer_body, ith_body, diagon_body, entri_body...  \n",
       "4      [want_body, estim_body, beta_body, fori_body, ...  \n",
       "...                                                  ...  \n",
       "19242  [im_body, compos_body, survey_body, compar_bod...  \n",
       "19243  [im_body, much_body, interest_body, implement_...  \n",
       "19244  [wonder_body, technic_body, perspect_body, app...  \n",
       "19245  [orden_body, avoid_body, overfit_body, choos_b...  \n",
       "19246  [plan_body, research_body, project_body, hyper...  \n",
       "\n",
       "[19247 rows x 6 columns]"
      ]
     },
     "execution_count": 16,
     "metadata": {},
     "output_type": "execute_result"
    }
   ],
   "source": [
    "df_train"
   ]
  },
  {
   "cell_type": "markdown",
   "metadata": {
    "id": "4esXb6WGuvmo"
   },
   "source": [
    "### Q. Detokenize and convert to document term matrices"
   ]
  },
  {
   "cell_type": "code",
   "execution_count": 17,
   "metadata": {
    "id": "JwhJ1pVBuvmo"
   },
   "outputs": [],
   "source": [
    "#Merge Three text column into one column and detokenize\n",
    "\n",
    "from nltk.tokenize.treebank import TreebankWordDetokenizer\n",
    "from sklearn.feature_extraction.text import CountVectorizer\n",
    "\n",
    "text_train = df_train['text'].apply(TreebankWordDetokenizer().detokenize) \n",
    "countvec = CountVectorizer(min_df = 0.01) \n",
    "sparse_dtm_train = countvec.fit_transform(text_train)"
   ]
  },
  {
   "cell_type": "code",
   "execution_count": 18,
   "metadata": {
    "id": "VoO-e-00uvmo"
   },
   "outputs": [],
   "source": [
    "#Todo: Do same on the test set.\n",
    "text_test = df_test['text'].apply(TreebankWordDetokenizer().detokenize)\n",
    "countvec_test = CountVectorizer(min_df = 0.01) \n",
    "sparse_dtm_test = countvec_test.fit_transform(text_test)"
   ]
  },
  {
   "cell_type": "code",
   "execution_count": 19,
   "metadata": {
    "colab": {
     "base_uri": "https://localhost:8080/"
    },
    "executionInfo": {
     "elapsed": 340,
     "status": "ok",
     "timestamp": 1668128857596,
     "user": {
      "displayName": "Hyungki Im",
      "userId": "11059091126270115149"
     },
     "user_tz": 480
    },
    "id": "hiK01v4luvmp",
    "outputId": "f6521cdc-fd1a-446f-9a7c-eb03df04a5f2"
   },
   "outputs": [],
   "source": [
    "#Convert the sprase dtm to pandas DataFrame.\n",
    "dtm_train = pd.DataFrame(sparse_dtm_train.toarray(), columns=countvec.get_feature_names_out(), index=df_train.index)\n",
    "dtm_test = pd.DataFrame(sparse_dtm_test.toarray(), columns=countvec_test.get_feature_names_out(), index=df_test.index)"
   ]
  },
  {
   "cell_type": "markdown",
   "metadata": {
    "id": "mZVDS6druvmq"
   },
   "source": [
    "### Q. Change dependent variable to binary variable"
   ]
  },
  {
   "cell_type": "code",
   "execution_count": 20,
   "metadata": {
    "id": "kWhfmKlYuvmr"
   },
   "outputs": [],
   "source": [
    "#Change 'Score' to a binary variable, which indicates whether the question is good or not.\n",
    "y_train = (df_train[\"Score\"] >= 1).astype(int)#Todo\n",
    "y_test = (df_test[\"Score\"] >= 1).astype(int)#Todo"
   ]
  },
  {
   "cell_type": "code",
   "execution_count": 21,
   "metadata": {
    "id": "DSQu_SPquvmq"
   },
   "outputs": [],
   "source": [
    "#Add y_train and y_test to your data frame if it is needed. Drop unnecessary columns\n",
    "df_train['useful'] = y_train\n",
    "df_test['useful'] = y_test\n",
    "df_train.drop(columns = [\"Score\", \"Body\", \"Title\", \"Tags\"], inplace = True)\n",
    "df_test.drop(columns = [\"Score\", \"Body\", \"Title\", \"Tags\"], inplace = True)"
   ]
  },
  {
   "cell_type": "markdown",
   "metadata": {
    "id": "MiYas_A6JcS1"
   },
   "source": [
    "## Let's check our DataFrame\n"
   ]
  },
  {
   "cell_type": "code",
   "execution_count": 22,
   "metadata": {
    "id": "WeTgM0ZMJqbI"
   },
   "outputs": [
    {
     "data": {
      "text/html": [
       "<div>\n",
       "<style scoped>\n",
       "    .dataframe tbody tr th:only-of-type {\n",
       "        vertical-align: middle;\n",
       "    }\n",
       "\n",
       "    .dataframe tbody tr th {\n",
       "        vertical-align: top;\n",
       "    }\n",
       "\n",
       "    .dataframe thead th {\n",
       "        text-align: right;\n",
       "    }\n",
       "</style>\n",
       "<table border=\"1\" class=\"dataframe\">\n",
       "  <thead>\n",
       "    <tr style=\"text-align: right;\">\n",
       "      <th></th>\n",
       "      <th>Id</th>\n",
       "      <th>text</th>\n",
       "      <th>useful</th>\n",
       "    </tr>\n",
       "  </thead>\n",
       "  <tbody>\n",
       "    <tr>\n",
       "      <th>0</th>\n",
       "      <td>500620</td>\n",
       "      <td>[follow_body, head_body, data_body, p_body, id...</td>\n",
       "      <td>0</td>\n",
       "    </tr>\n",
       "    <tr>\n",
       "      <th>1</th>\n",
       "      <td>483677</td>\n",
       "      <td>[want_body, predict_body, multivari_body, time...</td>\n",
       "      <td>0</td>\n",
       "    </tr>\n",
       "    <tr>\n",
       "      <th>2</th>\n",
       "      <td>464381</td>\n",
       "      <td>[bolker_body, talk_body, research_body, scenar...</td>\n",
       "      <td>1</td>\n",
       "    </tr>\n",
       "    <tr>\n",
       "      <th>3</th>\n",
       "      <td>494560</td>\n",
       "      <td>[refer_body, ith_body, diagon_body, entri_body...</td>\n",
       "      <td>0</td>\n",
       "    </tr>\n",
       "    <tr>\n",
       "      <th>4</th>\n",
       "      <td>466706</td>\n",
       "      <td>[want_body, estim_body, beta_body, fori_body, ...</td>\n",
       "      <td>1</td>\n",
       "    </tr>\n",
       "  </tbody>\n",
       "</table>\n",
       "</div>"
      ],
      "text/plain": [
       "       Id                                               text  useful\n",
       "0  500620  [follow_body, head_body, data_body, p_body, id...       0\n",
       "1  483677  [want_body, predict_body, multivari_body, time...       0\n",
       "2  464381  [bolker_body, talk_body, research_body, scenar...       1\n",
       "3  494560  [refer_body, ith_body, diagon_body, entri_body...       0\n",
       "4  466706  [want_body, estim_body, beta_body, fori_body, ...       1"
      ]
     },
     "execution_count": 22,
     "metadata": {},
     "output_type": "execute_result"
    }
   ],
   "source": [
    "df_train.head(5)"
   ]
  },
  {
   "cell_type": "markdown",
   "metadata": {
    "id": "AVPT48NRuvms"
   },
   "source": [
    "## (b) Please read the instruction carefully in the pdf."
   ]
  },
  {
   "cell_type": "code",
   "execution_count": 23,
   "metadata": {
    "scrolled": true
   },
   "outputs": [
    {
     "name": "stdout",
     "output_type": "stream",
     "text": [
      "0    9670\n",
      "1    9577\n",
      "Name: Score, dtype: int64\n",
      "0    4240\n",
      "1    4009\n",
      "Name: Score, dtype: int64\n"
     ]
    }
   ],
   "source": [
    "X_train = dtm_train[dtm_train.columns.intersection(dtm_test.columns.values)]\n",
    "X_test = dtm_test[dtm_test.columns.intersection(dtm_train.columns.values)]\n",
    "print(y_train.value_counts())\n",
    "print(y_test.value_counts())"
   ]
  },
  {
   "cell_type": "code",
   "execution_count": 27,
   "metadata": {
    "id": "3yD6xH8PzyoZ"
   },
   "outputs": [
    {
     "name": "stdout",
     "output_type": "stream",
     "text": [
      "Accuracy is: 0.5140\n",
      "TPR is: 0.0000\n",
      "FPR is: 0.0000\n"
     ]
    }
   ],
   "source": [
    "#Baseline Model: Predict the most common usefulness: 1 if score >= 1 and 0 if score < 1\n",
    "from sklearn.metrics import confusion_matrix\n",
    "\n",
    "baseline_PRE = [0 for y in y_test]\n",
    "BL_cm = confusion_matrix(y_test, baseline_PRE)\n",
    "\n",
    "baseline_acc = (BL_cm.ravel()[0]+BL_cm.ravel()[3])/sum(BL_cm.ravel())\n",
    "baseline_TPR = BL_cm.ravel()[3]/(BL_cm.ravel()[3]+BL_cm.ravel()[2])\n",
    "baseline_FPR = BL_cm.ravel()[1]/(BL_cm.ravel()[1]+BL_cm.ravel()[0])\n",
    "print('Accuracy is: %.4f' % baseline_acc)\n",
    "print('TPR is: %.4f' % baseline_TPR)\n",
    "print('FPR is: %.4f' % baseline_FPR)"
   ]
  },
  {
   "cell_type": "code",
   "execution_count": 29,
   "metadata": {},
   "outputs": [
    {
     "name": "stderr",
     "output_type": "stream",
     "text": [
      "/var/folders/hz/fvwx4crd2zz5m0nd9l3ntyhw0000gn/T/ipykernel_7167/1682226680.py:1: RuntimeWarning: divide by zero encountered in scalar floor_divide\n",
      "  baseline_PRE = BL_cm.ravel()[1]//(BL_cm.ravel()[1]+BL_cm.ravel()[3])\n"
     ]
    }
   ],
   "source": [
    "baseline_PRE = BL_cm.ravel()[1]//(BL_cm.ravel()[1]+BL_cm.ravel()[3])"
   ]
  },
  {
   "cell_type": "code",
   "execution_count": 30,
   "metadata": {},
   "outputs": [
    {
     "name": "stdout",
     "output_type": "stream",
     "text": [
      "Accuracy is: 0.5036\n",
      "TPR is: 0.4625\n",
      "FPR is: 0.4575\n"
     ]
    }
   ],
   "source": [
    "from sklearn.linear_model import LogisticRegression\n",
    "\n",
    "#Logisitic Regression\n",
    "logreg = LogisticRegression()\n",
    "logreg.fit(X_train, y_train)\n",
    "logreg_prob = logreg.predict_proba(X_test)\n",
    "log_PRE = pd.Series([1 if x > 0.5 else 0 for x in logreg_prob[:,1]], index=y_test.index)\n",
    "log_cm = confusion_matrix(y_test, log_PRE)\n",
    "log_acc = (log_cm.ravel()[0]+log_cm.ravel()[3])/sum(log_cm.ravel())\n",
    "log_TPR = log_cm.ravel()[3]/(log_cm.ravel()[3]+log_cm.ravel()[2])\n",
    "log_FPR = log_cm.ravel()[1]/(log_cm.ravel()[1]+log_cm.ravel()[0])\n",
    "print('Accuracy is: %.4f' % log_acc)\n",
    "print('TPR is: %.4f' % log_TPR)\n",
    "print('FPR is: %.4f' % log_FPR)"
   ]
  },
  {
   "cell_type": "code",
   "execution_count": 31,
   "metadata": {},
   "outputs": [],
   "source": [
    "log_PRE = log_cm.ravel()[1]/(log_cm.ravel()[1]+log_cm.ravel()[3])"
   ]
  },
  {
   "cell_type": "code",
   "execution_count": 32,
   "metadata": {
    "scrolled": true
   },
   "outputs": [
    {
     "name": "stdout",
     "output_type": "stream",
     "text": [
      "Accuracy is: 0.5015\n",
      "TPR is: 0.5056\n",
      "FPR is: 0.5024\n"
     ]
    }
   ],
   "source": [
    "#Decision Tree Classifier\n",
    "from sklearn.model_selection import GridSearchCV\n",
    "from sklearn.tree import DecisionTreeClassifier\n",
    "from sklearn.metrics import confusion_matrix\n",
    "from sklearn.metrics import accuracy_score\n",
    "\n",
    "grid_values = {'ccp_alpha': np.linspace(0, 0.1, 30)}\n",
    "\n",
    "dtc = DecisionTreeClassifier(random_state=2023)\n",
    "dtc_cv = GridSearchCV(dtc, param_grid=grid_values, cv=5).fit(X_train, y_train)\n",
    "\n",
    "dtc_PRE = dtc_cv.predict(X_test)\n",
    "dtc_cm = confusion_matrix(y_test, dtc_PRE)\n",
    "\n",
    "dtc_acc = accuracy_score(y_test, dtc_PRE)\n",
    "dtc_TPR = dtc_cm.ravel()[3]/(dtc_cm.ravel()[3]+dtc_cm.ravel()[2])\n",
    "dtc_FPR =  dtc_cm.ravel()[1]/(dtc_cm.ravel()[1]+dtc_cm.ravel()[0])\n",
    "\n",
    "print('Accuracy is: %.4f' % dtc_acc)\n",
    "print('TPR is: %.4f' % dtc_TPR)\n",
    "print('FPR is: %.4f' % dtc_FPR)"
   ]
  },
  {
   "cell_type": "code",
   "execution_count": 35,
   "metadata": {},
   "outputs": [],
   "source": [
    "dtc_PRE = dtc_cm.ravel()[1]/(dtc_cm.ravel()[1]+dtc_cm.ravel()[3])"
   ]
  },
  {
   "cell_type": "code",
   "execution_count": 36,
   "metadata": {},
   "outputs": [
    {
     "name": "stdout",
     "output_type": "stream",
     "text": [
      "Accuracy is: 0.5015\n",
      "TPR is: 0.5056\n",
      "FPR is: 0.5024\n"
     ]
    }
   ],
   "source": [
    "from sklearn.ensemble import RandomForestClassifier\n",
    "\n",
    "#Random Forest without CV\n",
    "\n",
    "rf = RandomForestClassifier(random_state \n",
    "                            = 2023)\n",
    "rf.fit(X_train, y_train)\n",
    "\n",
    "rf_PRE = rf.predict(X_test)\n",
    "rf_cm = confusion_matrix(y_test, rf_PRE)\n",
    "\n",
    "rf_acc = (rf_cm.ravel()[0]+ rf_cm.ravel()[3])/sum(rf_cm.ravel())\n",
    "rf_TPR = rf_cm.ravel()[3]/(rf_cm.ravel()[3]+rf_cm.ravel()[2])\n",
    "rf_FPR =  rf_cm.ravel()[1]/(rf_cm.ravel()[1]+rf_cm.ravel()[0])\n",
    "\n",
    "print('Accuracy is: %.4f' % rf_acc)\n",
    "print('TPR is: %.4f' % rf_TPR)\n",
    "print('FPR is: %.4f' % rf_FPR)"
   ]
  },
  {
   "cell_type": "code",
   "execution_count": 37,
   "metadata": {},
   "outputs": [],
   "source": [
    "rf_PRE = rf_cm.ravel()[1]/(rf_cm.ravel()[1]+rf_cm.ravel()[3])"
   ]
  },
  {
   "cell_type": "code",
   "execution_count": 38,
   "metadata": {},
   "outputs": [
    {
     "name": "stdout",
     "output_type": "stream",
     "text": [
      "Accuracy is: 0.5052\n",
      "TPR is: 0.4595\n",
      "FPR is: 0.4517\n"
     ]
    }
   ],
   "source": [
    "from sklearn.discriminant_analysis import LinearDiscriminantAnalysis\n",
    "\n",
    "#LDA\n",
    "\n",
    "lda = LinearDiscriminantAnalysis()\n",
    "lda.fit(X_train, y_train)\n",
    "\n",
    "lda_PRE = lda.predict(X_test)\n",
    "lda_cm = confusion_matrix(y_test, lda_PRE)\n",
    "\n",
    "lda_acc = (lda_cm.ravel()[0]+ lda_cm.ravel()[3])/sum(lda_cm.ravel())\n",
    "lda_TPR = lda_cm.ravel()[3]/(lda_cm.ravel()[3]+lda_cm.ravel()[2])\n",
    "lda_FPR =  lda_cm.ravel()[1]/(lda_cm.ravel()[1]+lda_cm.ravel()[0])\n",
    "\n",
    "print('Accuracy is: %.4f' % lda_acc)\n",
    "print('TPR is: %.4f' % lda_TPR)\n",
    "print('FPR is: %.4f' % lda_FPR)"
   ]
  },
  {
   "cell_type": "code",
   "execution_count": 39,
   "metadata": {},
   "outputs": [],
   "source": [
    "lda_PRE = lda_cm.ravel()[1]/(lda_cm.ravel()[1]+lda_cm.ravel()[3])"
   ]
  },
  {
   "cell_type": "code",
   "execution_count": 40,
   "metadata": {
    "id": "-O3EsbQGU0uX"
   },
   "outputs": [
    {
     "data": {
      "text/html": [
       "<div>\n",
       "<style scoped>\n",
       "    .dataframe tbody tr th:only-of-type {\n",
       "        vertical-align: middle;\n",
       "    }\n",
       "\n",
       "    .dataframe tbody tr th {\n",
       "        vertical-align: top;\n",
       "    }\n",
       "\n",
       "    .dataframe thead th {\n",
       "        text-align: right;\n",
       "    }\n",
       "</style>\n",
       "<table border=\"1\" class=\"dataframe\">\n",
       "  <thead>\n",
       "    <tr style=\"text-align: right;\">\n",
       "      <th></th>\n",
       "      <th>Accuracy</th>\n",
       "      <th>TPR</th>\n",
       "      <th>FPR</th>\n",
       "      <th>PRE</th>\n",
       "    </tr>\n",
       "  </thead>\n",
       "  <tbody>\n",
       "    <tr>\n",
       "      <th>Baseline</th>\n",
       "      <td>0.514002</td>\n",
       "      <td>0.000000</td>\n",
       "      <td>0.000000</td>\n",
       "      <td>0.000000</td>\n",
       "    </tr>\n",
       "    <tr>\n",
       "      <th>Logistic Regression</th>\n",
       "      <td>0.503576</td>\n",
       "      <td>0.462459</td>\n",
       "      <td>0.457547</td>\n",
       "      <td>0.511334</td>\n",
       "    </tr>\n",
       "    <tr>\n",
       "      <th>Decision Tree Classifier</th>\n",
       "      <td>0.501515</td>\n",
       "      <td>0.505612</td>\n",
       "      <td>0.502358</td>\n",
       "      <td>0.512389</td>\n",
       "    </tr>\n",
       "    <tr>\n",
       "      <th>Random Forest without CV</th>\n",
       "      <td>0.501515</td>\n",
       "      <td>0.505612</td>\n",
       "      <td>0.502358</td>\n",
       "      <td>0.512389</td>\n",
       "    </tr>\n",
       "    <tr>\n",
       "      <th>Linear Discriminant Analysis</th>\n",
       "      <td>0.505152</td>\n",
       "      <td>0.459466</td>\n",
       "      <td>0.451651</td>\n",
       "      <td>0.509715</td>\n",
       "    </tr>\n",
       "  </tbody>\n",
       "</table>\n",
       "</div>"
      ],
      "text/plain": [
       "                              Accuracy       TPR       FPR       PRE\n",
       "Baseline                      0.514002  0.000000  0.000000  0.000000\n",
       "Logistic Regression           0.503576  0.462459  0.457547  0.511334\n",
       "Decision Tree Classifier      0.501515  0.505612  0.502358  0.512389\n",
       "Random Forest without CV      0.501515  0.505612  0.502358  0.512389\n",
       "Linear Discriminant Analysis  0.505152  0.459466  0.451651  0.509715"
      ]
     },
     "execution_count": 40,
     "metadata": {},
     "output_type": "execute_result"
    }
   ],
   "source": [
    "#Create Comparison Table\n",
    "#These lines are provided for you to help construct a comparison table.\n",
    "#It is not requred to follow this format. + You need to find ACC, TPR, FPR, PRE for each model that you choose.\n",
    "comparison_data = {'Baseline':[baseline_acc,baseline_TPR,baseline_FPR, baseline_PRE],\n",
    "                   'Logistic Regression':[log_acc,log_TPR,log_FPR, log_PRE],\n",
    "                   'Decision Tree Classifier':[dtc_acc,dtc_TPR,dtc_FPR,dtc_PRE],\n",
    "                   'Random Forest without CV':[rf_acc,rf_TPR, rf_FPR,rf_PRE],\n",
    "                  'Linear Discriminant Analysis':[lda_acc,lda_TPR, lda_FPR,lda_PRE]}\n",
    "\n",
    "comparison_table = pd.DataFrame(data=comparison_data, index=['Accuracy', 'TPR', 'FPR','PRE']).transpose()\n",
    "comparison_table.style.set_properties(**{'font-size': '12pt',}).set_table_styles([{'selector': 'th', 'props': [('font-size', '10pt')]}])\n",
    "comparison_table"
   ]
  },
  {
   "cell_type": "markdown",
   "metadata": {
    "id": "Mjsc7lf6zOms"
   },
   "source": [
    "\n",
    "## Report details of your training procedures and final comparisons on the test set in this cell. Use your best judgment to choose a final model and explain your choice."
   ]
  },
  {
   "cell_type": "markdown",
   "metadata": {
    "id": "XLa-KDajuvmz"
   },
   "source": [
    "## Report Bootstrap Analysis in this cell"
   ]
  },
  {
   "cell_type": "markdown",
   "metadata": {
    "id": "JrCM_96Quvm2"
   },
   "source": [
    "### (c)"
   ]
  },
  {
   "cell_type": "code",
   "execution_count": 51,
   "metadata": {},
   "outputs": [
    {
     "name": "stdout",
     "output_type": "stream",
     "text": [
      "ROC_AUC Logistic Regression: 0.5015\n"
     ]
    }
   ],
   "source": [
    "from sklearn.metrics import roc_curve, auc\n",
    "fpr, tpr, _ = roc_curve(y_test.array, log_PRE)\n",
    "print('ROC_AUC Logistic Regression: %.4f' % auc(fpr, tpr))"
   ]
  },
  {
   "cell_type": "code",
   "execution_count": 45,
   "metadata": {},
   "outputs": [
    {
     "ename": "NameError",
     "evalue": "name 'dtc_PRE' is not defined",
     "output_type": "error",
     "traceback": [
      "\u001b[0;31m---------------------------------------------------------------------------\u001b[0m",
      "\u001b[0;31mNameError\u001b[0m                                 Traceback (most recent call last)",
      "Cell \u001b[0;32mIn[45], line 1\u001b[0m\n\u001b[0;32m----> 1\u001b[0m fpr, tpr, _ \u001b[38;5;241m=\u001b[39m roc_curve(y_test\u001b[38;5;241m.\u001b[39marray, dtc_PRE)\n\u001b[1;32m      2\u001b[0m \u001b[38;5;28mprint\u001b[39m(\u001b[38;5;124m'\u001b[39m\u001b[38;5;124mROC_AUC CART: \u001b[39m\u001b[38;5;132;01m%.4f\u001b[39;00m\u001b[38;5;124m'\u001b[39m \u001b[38;5;241m%\u001b[39m auc(fpr, tpr))\n",
      "\u001b[0;31mNameError\u001b[0m: name 'dtc_PRE' is not defined"
     ]
    }
   ],
   "source": [
    "fpr, tpr, _ = roc_curve(y_test.array, dtc_PRE)\n",
    "print('ROC_AUC CART: %.4f' % auc(fpr, tpr))"
   ]
  },
  {
   "cell_type": "code",
   "execution_count": 92,
   "metadata": {},
   "outputs": [
    {
     "name": "stdout",
     "output_type": "stream",
     "text": [
      "ROC_AUC RF: 0.5016\n"
     ]
    },
    {
     "data": {
      "text/plain": [
       "array([0, 0, 1, ..., 0, 1, 0])"
      ]
     },
     "execution_count": 92,
     "metadata": {},
     "output_type": "execute_result"
    }
   ],
   "source": [
    "fpr, tpr, _ = roc_curve(y_test.array, rf_PRE)\n",
    "print('ROC_AUC RF: %.4f' % auc(fpr, tpr))"
   ]
  },
  {
   "cell_type": "code",
   "execution_count": null,
   "metadata": {},
   "outputs": [],
   "source": [
    "fpr, tpr, _ = roc_curve(y_test.array, lda_PRE)\n",
    "print('ROC_AUC LDA: %.4f' % auc(fpr, tpr))"
   ]
  },
  {
   "cell_type": "code",
   "execution_count": 83,
   "metadata": {},
   "outputs": [],
   "source": [
    "def roc_auc(pre, y_test):\n",
    "    fpr, tpr, _ = roc_curve(y_test.array, pre)\n",
    "    return auc(fpr, tpr)"
   ]
  },
  {
   "cell_type": "code",
   "execution_count": 84,
   "metadata": {},
   "outputs": [],
   "source": [
    "import time\n",
    "\n",
    "def bootstrap_validation(test_data, test_label, train_label, model, metrics_list, sample=2000, random_state=2023):\n",
    "    tic = time.time()\n",
    "    n_sample = sample\n",
    "    n_metrics = len(metrics_list)\n",
    "    output_array=np.zeros([n_sample, n_metrics])\n",
    "    output_array[:]=np.nan\n",
    "    print(output_array.shape)\n",
    "    for bs_iter in range(n_sample):\n",
    "        bs_index = np.random.choice(test_data.index, len(test_data.index), replace=True)\n",
    "        bs_data = test_data.loc[bs_index]\n",
    "        bs_label = test_label.loc[bs_index]\n",
    "        bs_predicted = model.predict(bs_data)\n",
    "        for metrics_iter in range(n_metrics):\n",
    "            metrics = metrics_list[metrics_iter]\n",
    "            output_array[bs_iter, metrics_iter]=metrics(bs_predicted,bs_label)\n",
    "\n",
    "    output_df = pd.DataFrame(output_array)\n",
    "    return output_df"
   ]
  },
  {
   "cell_type": "code",
   "execution_count": 85,
   "metadata": {},
   "outputs": [
    {
     "name": "stdout",
     "output_type": "stream",
     "text": [
      "(2000, 1)\n"
     ]
    }
   ],
   "source": [
    "bs_output = bootstrap_validation(X_test,y_test,y_train,rf,\n",
    "                                 metrics_list=[roc_auc],)"
   ]
  },
  {
   "cell_type": "code",
   "execution_count": 86,
   "metadata": {},
   "outputs": [
    {
     "data": {
      "text/html": [
       "<div>\n",
       "<style scoped>\n",
       "    .dataframe tbody tr th:only-of-type {\n",
       "        vertical-align: middle;\n",
       "    }\n",
       "\n",
       "    .dataframe tbody tr th {\n",
       "        vertical-align: top;\n",
       "    }\n",
       "\n",
       "    .dataframe thead th {\n",
       "        text-align: right;\n",
       "    }\n",
       "</style>\n",
       "<table border=\"1\" class=\"dataframe\">\n",
       "  <thead>\n",
       "    <tr style=\"text-align: right;\">\n",
       "      <th></th>\n",
       "      <th>0</th>\n",
       "    </tr>\n",
       "  </thead>\n",
       "  <tbody>\n",
       "    <tr>\n",
       "      <th>0</th>\n",
       "      <td>0.514610</td>\n",
       "    </tr>\n",
       "    <tr>\n",
       "      <th>1</th>\n",
       "      <td>0.506431</td>\n",
       "    </tr>\n",
       "    <tr>\n",
       "      <th>2</th>\n",
       "      <td>0.504924</td>\n",
       "    </tr>\n",
       "    <tr>\n",
       "      <th>3</th>\n",
       "      <td>0.508599</td>\n",
       "    </tr>\n",
       "    <tr>\n",
       "      <th>4</th>\n",
       "      <td>0.492175</td>\n",
       "    </tr>\n",
       "    <tr>\n",
       "      <th>...</th>\n",
       "      <td>...</td>\n",
       "    </tr>\n",
       "    <tr>\n",
       "      <th>1995</th>\n",
       "      <td>0.506452</td>\n",
       "    </tr>\n",
       "    <tr>\n",
       "      <th>1996</th>\n",
       "      <td>0.486843</td>\n",
       "    </tr>\n",
       "    <tr>\n",
       "      <th>1997</th>\n",
       "      <td>0.496124</td>\n",
       "    </tr>\n",
       "    <tr>\n",
       "      <th>1998</th>\n",
       "      <td>0.495218</td>\n",
       "    </tr>\n",
       "    <tr>\n",
       "      <th>1999</th>\n",
       "      <td>0.490519</td>\n",
       "    </tr>\n",
       "  </tbody>\n",
       "</table>\n",
       "<p>2000 rows × 1 columns</p>\n",
       "</div>"
      ],
      "text/plain": [
       "             0\n",
       "0     0.514610\n",
       "1     0.506431\n",
       "2     0.504924\n",
       "3     0.508599\n",
       "4     0.492175\n",
       "...        ...\n",
       "1995  0.506452\n",
       "1996  0.486843\n",
       "1997  0.496124\n",
       "1998  0.495218\n",
       "1999  0.490519\n",
       "\n",
       "[2000 rows x 1 columns]"
      ]
     },
     "execution_count": 86,
     "metadata": {},
     "output_type": "execute_result"
    }
   ],
   "source": [
    "bs_output"
   ]
  },
  {
   "cell_type": "code",
   "execution_count": 87,
   "metadata": {},
   "outputs": [
    {
     "data": {
      "text/plain": [
       "(-0.05, 0.05)"
      ]
     },
     "execution_count": 87,
     "metadata": {},
     "output_type": "execute_result"
    },
    {
     "data": {
      "image/png": "[encoded data removed]",
      "text/plain": [
       "<Figure size 1200x500 with 2 Axes>"
      ]
     },
     "metadata": {},
     "output_type": "display_data"
    }
   ],
   "source": [
    "test_auc = roc_auc(rf_PRE,y_test)\n",
    "\n",
    "fig, axs = plt.subplots(ncols=2, figsize=(12,5))\n",
    "axs[0].set_xlabel('Bootstrap AUC Estimate', fontsize=16)\n",
    "axs[1].set_xlabel('Boot AUC (-) Test Set AUC', fontsize=16)\n",
    "axs[0].set_ylabel('Count', fontsize=16)\n",
    "axs[0].hist(bs_output.iloc[:,0], bins=50,edgecolor='green', linewidth=2,color = \"grey\")\n",
    "axs[0].set_xlim([0.45,0.55])\n",
    "axs[1].hist(bs_output.iloc[:,0] - test_auc, bins=50,edgecolor='green', linewidth=2,color = \"grey\")\n",
    "axs[1].set_xlim([-0.05,0.05])"
   ]
  },
  {
   "cell_type": "code",
   "execution_count": 88,
   "metadata": {},
   "outputs": [
    {
     "name": "stdout",
     "output_type": "stream",
     "text": [
      "The 95-percent confidence interval of AUC is [-0.01082622  0.01082313]\n"
     ]
    }
   ],
   "source": [
    "# The 95% confidence interval\n",
    "CI= np.quantile(bs_output.iloc[:,0]-test_auc,np.array([0.025,0.975]))\n",
    "print(\"The 95-percent confidence interval of AUC is %s\" % CI)"
   ]
  },
  {
   "cell_type": "code",
   "execution_count": 91,
   "metadata": {},
   "outputs": [
    {
     "data": {
      "text/plain": [
       "<matplotlib.collections.LineCollection at 0x149642a10>"
      ]
     },
     "execution_count": 91,
     "metadata": {},
     "output_type": "execute_result"
    },
    {
     "data": {
      "image/png": "[encoded data removed]",
      "text/plain": [
       "<Figure size 700x500 with 1 Axes>"
      ]
     },
     "metadata": {},
     "output_type": "display_data"
    }
   ],
   "source": [
    "fig, axs = plt.subplots(ncols=1, figsize=(7,5))\n",
    "axs.set_xlabel('Boot AUC - Test Set AUC', fontsize=16)\n",
    "axs.set_ylabel('Count', fontsize=16)\n",
    "axs.hist(bs_output.iloc[:,0]-test_auc, bins=20,edgecolor='green', linewidth=2,color = \"grey\")\n",
    "axs.set_xlim([-0.05,0.05])\n",
    "axs.vlines(x=CI[0], ymin = 0, ymax =300, color = \"black\")\n",
    "axs.vlines(x=CI[1], ymin = 0, ymax =300, color = \"black\")"
   ]
  },
  {
   "cell_type": "code",
   "execution_count": 301,
   "metadata": {},
   "outputs": [
    {
     "data": {
      "text/plain": [
       "0.503"
      ]
     },
     "execution_count": 301,
     "metadata": {},
     "output_type": "execute_result"
    }
   ],
   "source": [
    "def fifteen_top_result_log(test_data, test_label, train_label, sample=5000, random_state=2023):\n",
    "    n_sample = sample\n",
    "\n",
    "    predictions=np.zeros([n_sample])\n",
    "    predictions[:]=np.nan\n",
    "    \n",
    "    for bs_iter in range(n_sample):\n",
    "        #Select one random observation and its true results\n",
    "        bs_index = np.random.choice(test_data.index, 15, replace=False)\n",
    "        bs_label = test_label.loc[bs_index]\n",
    "        bs_data = test_data.loc[bs_index]\n",
    "        \n",
    "        \n",
    "        probas = pd.Series([x for x in logreg.predict_proba(bs_data)[:,1]])\n",
    "        best_prob = -9999\n",
    "        best_prob_true_val = None\n",
    "        for i in range(len(probas)):\n",
    "            if probas[i] > best_prob:\n",
    "                best_prob = probas[i]\n",
    "                best_prob_true_val = bs_label[bs_index[i]]\n",
    "        predictions[bs_iter] = best_prob_true_val == 1\n",
    "    \n",
    "    return sum(predictions) / sample\n",
    "\n",
    "fifteen_log_bs = fifteen_top_result_log(X_test,y_test,y_train)\n",
    "fifteen_log_bs"
   ]
  },
  {
   "cell_type": "code",
   "execution_count": 300,
   "metadata": {},
   "outputs": [
    {
     "data": {
      "text/plain": [
       "0.478"
      ]
     },
     "execution_count": 300,
     "metadata": {},
     "output_type": "execute_result"
    }
   ],
   "source": [
    "def fifteen_top_result(test_data, test_label, train_label, sample=5000, random_state=2023):\n",
    "    n_sample = sample\n",
    "    predictions=np.zeros([n_sample])\n",
    "    predictions[:]=np.nan\n",
    "    \n",
    "    for bs_iter in range(n_sample):\n",
    "        #Select one random observation and its true results\n",
    "        bs_index = np.random.choice(test_data.index, 15, replace=False)\n",
    "        bs_label = test_label.loc[bs_index]\n",
    "        \n",
    "        predictions[bs_iter] = bs_label[bs_index[0]] == 1\n",
    "    \n",
    "    return sum(predictions) / sample\n",
    "\n",
    "fifteen_bs = fifteen_top_result(X_test,y_test,y_train)\n",
    "fifteen_bs"
   ]
  }
 ],
 "metadata": {
  "colab": {
   "provenance": [
    {
     "file_id": "1AHr2NIU61Oco-PfG10o3gAYXLrsyJ8Sv",
     "timestamp": 1668122684758
    }
   ]
  },
  "kernelspec": {
   "display_name": "Python 3 (ipykernel)",
   "language": "python",
   "name": "python3"
  },
  "language_info": {
   "codemirror_mode": {
    "name": "ipython",
    "version": 3
   },
   "file_extension": ".py",
   "mimetype": "text/x-python",
   "name": "python",
   "nbconvert_exporter": "python",
   "pygments_lexer": "ipython3",
   "version": "3.11.4"
  }
 },
 "nbformat": 4,
 "nbformat_minor": 1
}
